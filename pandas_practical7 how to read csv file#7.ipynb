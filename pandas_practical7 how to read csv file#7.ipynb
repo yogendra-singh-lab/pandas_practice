{
 "cells": [
  {
   "cell_type": "markdown",
   "metadata": {},
   "source": [
    "# how to read csv file"
   ]
  },
  {
   "cell_type": "code",
   "execution_count": 1,
   "metadata": {},
   "outputs": [],
   "source": [
    "import pandas as pd"
   ]
  },
  {
   "cell_type": "code",
   "execution_count": 2,
   "metadata": {},
   "outputs": [
    {
     "name": "stdout",
     "output_type": "stream",
     "text": [
      "   ID             Name             Industry  Inception       Revenue  \\\n",
      "0   1          Lamtone          IT Services       2009  $11,757,018    \n",
      "1   2        Stripfind   Financial Services       2010  $12,329,371    \n",
      "2   3  Canecorporation               Health       2012  $10,597,009    \n",
      "3   4         Mattouch          IT Services       2013  $14,026,934    \n",
      "4   5        Techdrill               Health       2009  $10,573,990    \n",
      "5   6         Techline               Health       2006  $13,898,119    \n",
      "6   7          Cityace               Health       2010   $9,254,614    \n",
      "7   8   Kayelectronics               Health       2009   $9,451,943    \n",
      "8   9          Ganzlax          IT Services       2011  $14,001,180    \n",
      "9  10      Trantraxlax  Government Services       2011  $11,088,336    \n",
      "\n",
      "            Expenses    Profit Growth  \n",
      "0  6,482,465 Dollars   5274553    30%  \n",
      "1    916,455 Dollars  11412916    20%  \n",
      "2  7,591,189 Dollars   3005820     7%  \n",
      "3  7,429,377 Dollars   6597557    26%  \n",
      "4  7,435,363 Dollars   3138627     8%  \n",
      "5  5,470,303 Dollars   8427816    23%  \n",
      "6  6,249,498 Dollars   3005116     6%  \n",
      "7  3,878,113 Dollars   5573830     4%  \n",
      "8                NaN  11901180    18%  \n",
      "9  5,635,276 Dollars   5453060     7%  \n"
     ]
    }
   ],
   "source": [
    "df  = pd.read_csv('D:\\\\machine learning data sets\\\\Fortune_10.csv')\n",
    "print(df)"
   ]
  },
  {
   "cell_type": "code",
   "execution_count": 4,
   "metadata": {},
   "outputs": [
    {
     "name": "stdout",
     "output_type": "stream",
     "text": [
      "   ID             Name             Industry  Inception       Revenue  \\\n",
      "0   1          Lamtone                  NaN       2009  $11,757,018    \n",
      "1   2        Stripfind   Financial Services       2010  $12,329,371    \n",
      "2   3  Canecorporation                  NaN       2012  $10,597,009    \n",
      "3   4         Mattouch                  NaN       2013  $14,026,934    \n",
      "4   5        Techdrill                  NaN       2009  $10,573,990    \n",
      "5   6         Techline                  NaN       2006  $13,898,119    \n",
      "6   7          Cityace                  NaN       2010   $9,254,614    \n",
      "7   8   Kayelectronics                  NaN       2009   $9,451,943    \n",
      "8   9          Ganzlax                  NaN       2011  $14,001,180    \n",
      "9  10      Trantraxlax  Government Services       2011  $11,088,336    \n",
      "\n",
      "            Expenses    Profit Growth  \n",
      "0  6,482,465 Dollars   5274553    30%  \n",
      "1    916,455 Dollars  11412916    20%  \n",
      "2  7,591,189 Dollars   3005820     7%  \n",
      "3  7,429,377 Dollars   6597557    26%  \n",
      "4  7,435,363 Dollars   3138627     8%  \n",
      "5  5,470,303 Dollars   8427816    23%  \n",
      "6  6,249,498 Dollars   3005116     6%  \n",
      "7  3,878,113 Dollars   5573830     4%  \n",
      "8                NaN  11901180    18%  \n",
      "9  5,635,276 Dollars   5453060     7%  \n"
     ]
    }
   ],
   "source": [
    "df1  = pd.read_csv('D:\\\\machine learning data sets\\\\Fortune_10.csv',na_values = [\"IT Services\",'Health'])\n",
    "print(df1)"
   ]
  },
  {
   "cell_type": "code",
   "execution_count": 7,
   "metadata": {},
   "outputs": [
    {
     "name": "stdout",
     "output_type": "stream",
     "text": [
      "   ID             Name             Industry  Inception       Revenue  \\\n",
      "0   1          Lamtone                  NaN       2009  $11,757,018    \n",
      "1   2        Stripfind   Financial Services       2010  $12,329,371    \n",
      "2   3  Canecorporation               Health       2012  $10,597,009    \n",
      "3   4         Mattouch                  NaN       2013  $14,026,934    \n",
      "4   5        Techdrill               Health       2009  $10,573,990    \n",
      "5   6         Techline               Health       2006  $13,898,119    \n",
      "6   7          Cityace               Health       2010   $9,254,614    \n",
      "7   8   Kayelectronics               Health       2009   $9,451,943    \n",
      "8   9          Ganzlax                  NaN       2011  $14,001,180    \n",
      "9  10      Trantraxlax  Government Services       2011  $11,088,336    \n",
      "\n",
      "            Expenses    Profit Growth  \n",
      "0  6,482,465 Dollars   5274553    30%  \n",
      "1    916,455 Dollars  11412916    20%  \n",
      "2  7,591,189 Dollars   3005820     7%  \n",
      "3  7,429,377 Dollars   6597557    26%  \n",
      "4  7,435,363 Dollars   3138627     8%  \n",
      "5  5,470,303 Dollars   8427816    23%  \n",
      "6  6,249,498 Dollars   3005116     6%  \n",
      "7  3,878,113 Dollars   5573830     4%  \n",
      "8                NaN  11901180    18%  \n",
      "9  5,635,276 Dollars   5453060     7%  \n"
     ]
    }
   ],
   "source": [
    "df  = pd.read_csv('D:\\\\machine learning data sets\\\\Fortune_10.csv' , na_values = {'Industry': 'IT Services', 'name':'Techdrill'})\n",
    "print(df)"
   ]
  },
  {
   "cell_type": "code",
   "execution_count": 9,
   "metadata": {},
   "outputs": [
    {
     "name": "stdout",
     "output_type": "stream",
     "text": [
      "   ID             Name             Industry  Inception       Revenue  \\\n",
      "0   1          Lamtone          IT Services       2009  $11,757,018    \n",
      "1   2        Stripfind   Financial Services       2010  $12,329,371    \n",
      "2   3  Canecorporation               Health       2012  $10,597,009    \n",
      "3   4         Mattouch          IT Services       2013  $14,026,934    \n",
      "4   5        Techdrill               Health       2009  $10,573,990    \n",
      "5   6         Techline               Health       2006  $13,898,119    \n",
      "6   7          Cityace               Health       2010   $9,254,614    \n",
      "7   8   Kayelectronics               Health       2009   $9,451,943    \n",
      "8   9          Ganzlax          IT Services       2011  $14,001,180    \n",
      "9  10      Trantraxlax  Government Services       2011  $11,088,336    \n",
      "\n",
      "            Expenses    Profit Growth  \n",
      "0  6,482,465 Dollars   5274553    30%  \n",
      "1    916,455 Dollars  11412916    20%  \n",
      "2  7,591,189 Dollars   3005820     7%  \n",
      "3  7,429,377 Dollars   6597557    26%  \n",
      "4  7,435,363 Dollars   3138627     8%  \n",
      "5  5,470,303 Dollars   8427816    23%  \n",
      "6  6,249,498 Dollars   3005116     6%  \n",
      "7  3,878,113 Dollars   5573830     4%  \n",
      "8                     11901180    18%  \n",
      "9  5,635,276 Dollars   5453060     7%  \n"
     ]
    }
   ],
   "source": [
    "df  = pd.read_csv('D:\\\\machine learning data sets\\\\Fortune_10.csv', keep_default_na = False)\n",
    "print(df)"
   ]
  },
  {
   "cell_type": "code",
   "execution_count": 10,
   "metadata": {},
   "outputs": [
    {
     "name": "stdout",
     "output_type": "stream",
     "text": [
      "   ID             Name             Industry  Inception       Revenue  \\\n",
      "0   1          Lamtone          IT Services       2009  $11,757,018    \n",
      "1   2        Stripfind   Financial Services       2010  $12,329,371    \n",
      "2   3  Canecorporation               Health       2012  $10,597,009    \n",
      "3   4         Mattouch          IT Services       2013  $14,026,934    \n",
      "4   5        Techdrill               Health       2009  $10,573,990    \n",
      "5   6         Techline               Health       2006  $13,898,119    \n",
      "6   7          Cityace               Health       2010   $9,254,614    \n",
      "7   8   Kayelectronics               Health       2009   $9,451,943    \n",
      "8   9          Ganzlax          IT Services       2011  $14,001,180    \n",
      "9  10      Trantraxlax  Government Services       2011  $11,088,336    \n",
      "\n",
      "            Expenses    Profit Growth  \n",
      "0  6,482,465 Dollars   5274553    30%  \n",
      "1    916,455 Dollars  11412916    20%  \n",
      "2  7,591,189 Dollars   3005820     7%  \n",
      "3  7,429,377 Dollars   6597557    26%  \n",
      "4  7,435,363 Dollars   3138627     8%  \n",
      "5  5,470,303 Dollars   8427816    23%  \n",
      "6  6,249,498 Dollars   3005116     6%  \n",
      "7  3,878,113 Dollars   5573830     4%  \n",
      "8                     11901180    18%  \n",
      "9  5,635,276 Dollars   5453060     7%  \n"
     ]
    }
   ],
   "source": [
    "df  = pd.read_csv('D:\\\\machine learning data sets\\\\Fortune_10.csv',na_filter = False)\n",
    "print(df)"
   ]
  },
  {
   "cell_type": "code",
   "execution_count": null,
   "metadata": {},
   "outputs": [],
   "source": []
  }
 ],
 "metadata": {
  "kernelspec": {
   "display_name": "Python 3",
   "language": "python",
   "name": "python3"
  },
  "language_info": {
   "codemirror_mode": {
    "name": "ipython",
    "version": 3
   },
   "file_extension": ".py",
   "mimetype": "text/x-python",
   "name": "python",
   "nbconvert_exporter": "python",
   "pygments_lexer": "ipython3",
   "version": "3.8.5"
  }
 },
 "nbformat": 4,
 "nbformat_minor": 4
}
